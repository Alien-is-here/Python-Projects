{
  "nbformat": 4,
  "nbformat_minor": 0,
  "metadata": {
    "colab": {
      "provenance": []
    },
    "kernelspec": {
      "name": "python3",
      "display_name": "Python 3"
    },
    "language_info": {
      "name": "python"
    }
  },
  "cells": [
    {
      "cell_type": "code",
      "execution_count": 23,
      "metadata": {
        "colab": {
          "base_uri": "https://localhost:8080/"
        },
        "id": "Ud4xqRiQ-eiL",
        "outputId": "0e981319-5689-4588-b2ee-801982388cf8"
      },
      "outputs": [
        {
          "output_type": "stream",
          "name": "stdout",
          "text": [
            "Requirement already satisfied: nltk in /usr/local/lib/python3.10/dist-packages (3.8.1)\n",
            "Requirement already satisfied: click in /usr/local/lib/python3.10/dist-packages (from nltk) (8.1.7)\n",
            "Requirement already satisfied: joblib in /usr/local/lib/python3.10/dist-packages (from nltk) (1.4.2)\n",
            "Requirement already satisfied: regex>=2021.8.3 in /usr/local/lib/python3.10/dist-packages (from nltk) (2024.9.11)\n",
            "Requirement already satisfied: tqdm in /usr/local/lib/python3.10/dist-packages (from nltk) (4.66.5)\n"
          ]
        }
      ],
      "source": [
        "!pip install nltk\n"
      ]
    },
    {
      "cell_type": "code",
      "source": [
        "import re\n",
        "import random"
      ],
      "metadata": {
        "id": "7i9jjx9F_3wG"
      },
      "execution_count": 24,
      "outputs": []
    },
    {
      "cell_type": "code",
      "source": [
        "import nltk\n",
        "from nltk.chat.util import Chat, reflections"
      ],
      "metadata": {
        "id": "gNLm6fdk-gU_"
      },
      "execution_count": 25,
      "outputs": []
    },
    {
      "cell_type": "code",
      "source": [
        "response = {\n",
        "    \"hi|hey|hello\":[\"Hello!\", \"Hey there!\"],\n",
        "    \"Hello\":[\"Hello! How Can I Help You?\"],\n",
        "    \"what is your name?\":[\"I am Eliza, your virtual therapist.\"],\n",
        "    \"my name is (.*)\":[\"Hello %1, how can I help you today?\"],\n",
        "    \"I feel (.*)\":[\"Why do you feel {}?\", \"How often do you feel {}?\", \"When do you feel {}?\"],\n",
        "    \"I am (.*)\":[\"Why are {}?\", \"How long are {}?\", \"When do you  {}?\"],\n",
        "    \"I'm (.*)\":[\"Why do you feel {}?\", \"How often do you feel {}?\", \"When do you {}?\"],\n",
        "    \"how are you?\":[\"I'm just a program, but I'm here to help you!\"],\n",
        "    \"sorry (.*)\":[\"It's okay, no need to apologize.\"],\n",
        "    \"(.*) friend (.*)\":[\"Tell me more about your friends.\"],\n",
        "    \"Yes\":[\"That's great!\"],\n",
        "    \"No\":[\"That's okay, no problem.\"],\n",
        "    \"thank you\":[\"You're welcome!\", \"You're very much welcome.\"],\n",
        "    \"(.*)\":[\"I'm sorry, I didn't understand that.\", \"Could you please rephrase that?\"],\n",
        "    \"\":[\"I'm sorry, I didn't understand that.\", \"Lets Change the topic\"],\n",
        "    \"quit\":[\"Goodbye! Have a great day.\"],\n",
        "\n",
        "}\n"
      ],
      "metadata": {
        "id": "45L6nDrwAFab"
      },
      "execution_count": 26,
      "outputs": []
    },
    {
      "cell_type": "code",
      "source": [
        "def eliza_chatbot(input_text):\n",
        "  for pattern, response_list in response.items():\n",
        "    matches = re.match(pattern,input_text.lower())\n",
        "    if matches:\n",
        "      chat = random.choice(response_list)\n",
        "      return chat.format(*matches.groups())\n",
        "\n",
        "  return \"Sorry! I dont understand what are you saying\"\n"
      ],
      "metadata": {
        "id": "xaU7ZvWv_DB0"
      },
      "execution_count": 27,
      "outputs": []
    },
    {
      "cell_type": "code",
      "source": [
        "print(\"Hi, I'm Eliza. How can I help you today?\")\n",
        "while True:\n",
        "  input_text = input(\"You: \")\n",
        "  if input_text == \"Bye\" or input_text == \"bye\":\n",
        "    print(\"GoodBye\")\n",
        "    break\n",
        "  else:\n",
        "    print(\"Eliza :\"+eliza_chatbot(input_text))"
      ],
      "metadata": {
        "colab": {
          "base_uri": "https://localhost:8080/"
        },
        "id": "6gdve8sJ_KXL",
        "outputId": "611d21a4-1040-4975-dc65-762b28f81a6c"
      },
      "execution_count": 30,
      "outputs": [
        {
          "output_type": "stream",
          "name": "stdout",
          "text": [
            "Hi, I'm Eliza. How can I help you today?\n",
            "You: bye\n",
            "GoodBye\n"
          ]
        }
      ]
    },
    {
      "cell_type": "code",
      "source": [],
      "metadata": {
        "id": "WwZF9Un3IHDk"
      },
      "execution_count": 28,
      "outputs": []
    }
  ]
}